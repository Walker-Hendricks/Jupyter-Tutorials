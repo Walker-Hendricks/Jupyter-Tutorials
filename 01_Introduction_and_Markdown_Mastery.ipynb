{
 "cells": [
  {
   "cell_type": "markdown",
   "id": "b934b7d4-9627-46e7-adb8-ee61bf55d8ce",
   "metadata": {},
   "source": [
    "# Learning Jupyter 01: Introduction and Markdown Mastery"
   ]
  },
  {
   "cell_type": "markdown",
   "id": "d47d69c1-14ae-4969-914b-53cf122840b0",
   "metadata": {},
   "source": [
    "## Welcome to Jupyter!\n",
    "---\n",
    "Jupyter is a wild and fascinating world, often used to make interactive and nice-looking programming environments. It's super awesome for coding projects, homework, or really any time you need to present code to other people. It's used by people in all stages of coding, from absolute beginners to experts. However, even people who have used Jupyter for years may not know all of its many useful features. \n",
    "\n",
    "Before getting started, I want to make a note about the format: this repository is designed to be presented in the form of notebooks (obviously, if you're reading this). Each notebook will come with explanations of concepts and demonstrations for you to look at and try for yourself. The notebooks are ordered in their titles, but for completion I list them in order here:\n",
    "\n",
    "- 01: Introduction and Markdown Mastery\n",
    "- 02: The Magic of Magic Commands\n",
    "- 03: Bringing the Data to Life: Widgets, Interactivity, and Rich Output\n",
    "- 04?\n",
    "\n",
    "Now, let's dive in and explore all that Jupyter has to offer you!"
   ]
  },
  {
   "cell_type": "markdown",
   "id": "6e3cfa31-d0a0-4216-b034-6365a3fcc26d",
   "metadata": {},
   "source": [
    "## 01-01: What is Jupyter?\n",
    "---\n",
    "*Jupyter* is an amalgomation of the programming languages *JUlia*, *PYThon*, and *R*. These were the three languages originally supported by Jupyter's format. Jupyter is all about interactive programming in the form of *cells*. "
   ]
  },
  {
   "cell_type": "markdown",
   "id": "b147add7-02f4-4317-8225-ff7278305967",
   "metadata": {},
   "source": [
    "## 01-02: Jupyter Shortcuts\n",
    "---\n",
    "Jupyter has two main modes: **command** mode and **edit** mode. These names are, helpfully, nearly self-explanatory:\n",
    "- **Command** mode allows you to run commands relating to the cells themselves\n",
    "- **Edit** mode allows you to edit the content of  aparticular cell\n",
    "\n",
    "Initially, you typically enter a notebook in *command* mode. If you ever need to enter command mode, press `Esc` (Escape). If you want to enter edit mode and edit a cell, simply double click on the cell you want to edit or press `Enter` if the cell is selected. (A cell is selected if the blue bar on the left side is next to that cell.)\n",
    "\n",
    "Now, once you're in edit mode, things are pretty straightforward--just type what you want in the cell. However, I need to make a few remarks about command mode to show you all the things you can do! Commands are enacted through keyboard shortcuts. There are a lot of them; for a full list, you can go to \"Help\" -> \"Show Keyboard Shortcuts\" from the top bar of your Jupyter menu. However, I'll make a list of the most essential commands below:\n",
    "- `a` (`b`): Creates a new cell above (below) the current cell\n",
    "- `y`/`m`/`r` : Changes a cell's type to code/Markdown/raw text\n",
    "- `d + d`: Deletes the highlighted cell (pressing `d` twice)\n",
    "- (`Ctrl`) + `c`/(`Ctrl`) + `v`: Copies/pastes the selected cell(s) (`Ctrl` not needed)\n",
    "- `Ctrl` + `Shift` + `up`/`down`: Select cells above/below the current cell\n",
    "- `up`/`down`: Navigate to cells above/below the current cell\n",
    "- `Ctrl` + `Enter`: Run the current cell (without progressing)\n",
    "- `Shift` + `Enter`: Run the current cell and move to the next cell\n",
    "- `Alt` + `Enter`: Run the current cell and insert a new cell below\n",
    "\n",
    "There are many more shortcuts with Jupyter, all there to make your life easier. These are perhaps the most important and most common commands you will use, but if you want more, remember again that you can navigate to the keyboard shortcuts list from the Jupyter menu or through `Ctrl` + `Shift` + `H`."
   ]
  },
  {
   "cell_type": "markdown",
   "id": "44a8d37f-d69d-4f8d-b067-17241f26e3ad",
   "metadata": {},
   "source": [
    "## 01-03: Markdown\n",
    "---\n",
    "Markdown is a powerful markup language used for formatting text on websites, GitHub pages, and Jupyter notebooks. As such, it's probably important to get a handle on how it works. Here, I will give you a quick overview of the most important Markdown features. (For a complete list, check out [the Markdown Guide](https://www.markdownguide.org/).)"
   ]
  }
 ],
 "metadata": {
  "kernelspec": {
   "display_name": "Python 3 (ipykernel)",
   "language": "python",
   "name": "python3"
  },
  "language_info": {
   "codemirror_mode": {
    "name": "ipython",
    "version": 3
   },
   "file_extension": ".py",
   "mimetype": "text/x-python",
   "name": "python",
   "nbconvert_exporter": "python",
   "pygments_lexer": "ipython3",
   "version": "3.13.5"
  }
 },
 "nbformat": 4,
 "nbformat_minor": 5
}
