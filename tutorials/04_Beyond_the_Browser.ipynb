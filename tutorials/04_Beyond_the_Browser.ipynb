{
 "cells": [
  {
   "cell_type": "markdown",
   "id": "e3e9e3a7-7512-467c-874e-7ac00f15e6b3",
   "metadata": {},
   "source": [
    "# Learning Jupyter 04: Beyond the Browser"
   ]
  },
  {
   "cell_type": "code",
   "execution_count": null,
   "id": "b24e5e7e-ccdf-4867-85e1-74ed7f68ea9b",
   "metadata": {},
   "outputs": [],
   "source": []
  }
 ],
 "metadata": {
  "kernelspec": {
   "display_name": "Python 3 (ipykernel)",
   "language": "python",
   "name": "python3"
  },
  "language_info": {
   "codemirror_mode": {
    "name": "ipython",
    "version": 3
   },
   "file_extension": ".py",
   "mimetype": "text/x-python",
   "name": "python",
   "nbconvert_exporter": "python",
   "pygments_lexer": "ipython3",
   "version": "3.13.5"
  }
 },
 "nbformat": 4,
 "nbformat_minor": 5
}
