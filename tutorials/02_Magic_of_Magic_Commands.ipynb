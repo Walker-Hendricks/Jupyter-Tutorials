{
 "cells": [
  {
   "cell_type": "markdown",
   "id": "73e6a77e-3a32-4fd1-a911-6d26e10d5c47",
   "metadata": {},
   "source": [
    "# Learning Jupyter 02: The \"Magic\" of Magic Commands"
   ]
  },
  {
   "cell_type": "markdown",
   "id": "046efd18-a42f-4a15-aa54-6bdba5e99638",
   "metadata": {},
   "source": [
    "## What Are Magic Commands?\n",
    "---\n",
    "In Jupyter, you allow yourself access to a whole host of what are called \"magic commands\". These are commands prefaced by a `%` character, and they operate several features of Jupyter in the backend. These are actually features that even some experienced users of Jupyter are unaware of. They can allow you to fully leverage the power of Jupyter without resorting to other languages or IDEs. They allow you to do a lot, including things like debugging, within the space of the notebook without having the inconvenience of having to leave! So buckle up because things are about to get interesting!"
   ]
  },
  {
   "cell_type": "markdown",
   "id": "044654ce-66a9-40e0-8204-76336a031205",
   "metadata": {},
   "source": [
    "## 02-01: Line Magics\n",
    "---\n",
    "In Jupyter, there are two main types of magic commands: line magics, which operate on a single line, and cell magics, which operate over the whole cell. The main difference is whether you use one `%` character (line) or two (cell). Throughout this section, note that ***you can only use one line magic command per Jupyter cell***. This just comes down to the way Jupyter works. It would be nice to run several, I know, but unfortunately that is not currently possible. With that, let's discuss a few of the important line magics that are most commonly used.\n",
    "\n",
    "### Listing Magics\n",
    "Perhaps the first magic command you should learn about is `lsmagic`. This command shows you all of the magic commands listed within the kernel that you're using:"
   ]
  },
  {
   "cell_type": "code",
   "execution_count": 1,
   "id": "327ef69b-7866-42b3-a0a2-83f8a082c96d",
   "metadata": {},
   "outputs": [
    {
     "data": {
      "application/json": {
       "cell": {
        "!": "OSMagics",
        "HTML": "Other",
        "SVG": "Other",
        "bash": "Other",
        "capture": "ExecutionMagics",
        "code_wrap": "ExecutionMagics",
        "debug": "ExecutionMagics",
        "file": "Other",
        "html": "DisplayMagics",
        "javascript": "DisplayMagics",
        "js": "DisplayMagics",
        "latex": "DisplayMagics",
        "markdown": "DisplayMagics",
        "perl": "Other",
        "prun": "ExecutionMagics",
        "pypy": "Other",
        "python": "Other",
        "python2": "Other",
        "python3": "Other",
        "ruby": "Other",
        "script": "ScriptMagics",
        "sh": "Other",
        "svg": "DisplayMagics",
        "sx": "OSMagics",
        "system": "OSMagics",
        "time": "ExecutionMagics",
        "timeit": "ExecutionMagics",
        "writefile": "OSMagics"
       },
       "line": {
        "alias": "OSMagics",
        "alias_magic": "BasicMagics",
        "autoawait": "AsyncMagics",
        "autocall": "AutoMagics",
        "automagic": "AutoMagics",
        "autosave": "KernelMagics",
        "bookmark": "OSMagics",
        "cat": "Other",
        "cd": "OSMagics",
        "clear": "KernelMagics",
        "code_wrap": "ExecutionMagics",
        "colors": "BasicMagics",
        "conda": "PackagingMagics",
        "config": "ConfigMagics",
        "connect_info": "KernelMagics",
        "cp": "Other",
        "debug": "ExecutionMagics",
        "dhist": "OSMagics",
        "dirs": "OSMagics",
        "doctest_mode": "BasicMagics",
        "ed": "Other",
        "edit": "KernelMagics",
        "env": "OSMagics",
        "gui": "BasicMagics",
        "hist": "Other",
        "history": "HistoryMagics",
        "killbgscripts": "ScriptMagics",
        "ldir": "Other",
        "less": "KernelMagics",
        "lf": "Other",
        "lk": "Other",
        "ll": "Other",
        "load": "CodeMagics",
        "load_ext": "ExtensionMagics",
        "loadpy": "CodeMagics",
        "logoff": "LoggingMagics",
        "logon": "LoggingMagics",
        "logstart": "LoggingMagics",
        "logstate": "LoggingMagics",
        "logstop": "LoggingMagics",
        "ls": "Other",
        "lsmagic": "BasicMagics",
        "lx": "Other",
        "macro": "ExecutionMagics",
        "magic": "BasicMagics",
        "mamba": "PackagingMagics",
        "man": "KernelMagics",
        "matplotlib": "PylabMagics",
        "micromamba": "PackagingMagics",
        "mkdir": "Other",
        "more": "KernelMagics",
        "mv": "Other",
        "notebook": "BasicMagics",
        "page": "BasicMagics",
        "pastebin": "CodeMagics",
        "pdb": "ExecutionMagics",
        "pdef": "NamespaceMagics",
        "pdoc": "NamespaceMagics",
        "pfile": "NamespaceMagics",
        "pinfo": "NamespaceMagics",
        "pinfo2": "NamespaceMagics",
        "pip": "PackagingMagics",
        "popd": "OSMagics",
        "pprint": "BasicMagics",
        "precision": "BasicMagics",
        "prun": "ExecutionMagics",
        "psearch": "NamespaceMagics",
        "psource": "NamespaceMagics",
        "pushd": "OSMagics",
        "pwd": "OSMagics",
        "pycat": "OSMagics",
        "pylab": "PylabMagics",
        "qtconsole": "KernelMagics",
        "quickref": "BasicMagics",
        "recall": "HistoryMagics",
        "rehashx": "OSMagics",
        "reload_ext": "ExtensionMagics",
        "rep": "Other",
        "rerun": "HistoryMagics",
        "reset": "NamespaceMagics",
        "reset_selective": "NamespaceMagics",
        "rm": "Other",
        "rmdir": "Other",
        "run": "ExecutionMagics",
        "save": "CodeMagics",
        "sc": "OSMagics",
        "set_env": "OSMagics",
        "store": "StoreMagics",
        "sx": "OSMagics",
        "system": "OSMagics",
        "tb": "ExecutionMagics",
        "time": "ExecutionMagics",
        "timeit": "ExecutionMagics",
        "unalias": "OSMagics",
        "unload_ext": "ExtensionMagics",
        "uv": "PackagingMagics",
        "who": "NamespaceMagics",
        "who_ls": "NamespaceMagics",
        "whos": "NamespaceMagics",
        "xdel": "NamespaceMagics",
        "xmode": "BasicMagics"
       }
      },
      "text/plain": [
       "Available line magics:\n",
       "%alias  %alias_magic  %autoawait  %autocall  %automagic  %autosave  %bookmark  %cat  %cd  %clear  %code_wrap  %colors  %conda  %config  %connect_info  %cp  %debug  %dhist  %dirs  %doctest_mode  %ed  %edit  %env  %gui  %hist  %history  %killbgscripts  %ldir  %less  %lf  %lk  %ll  %load  %load_ext  %loadpy  %logoff  %logon  %logstart  %logstate  %logstop  %ls  %lsmagic  %lx  %macro  %magic  %mamba  %man  %matplotlib  %micromamba  %mkdir  %more  %mv  %notebook  %page  %pastebin  %pdb  %pdef  %pdoc  %pfile  %pinfo  %pinfo2  %pip  %popd  %pprint  %precision  %prun  %psearch  %psource  %pushd  %pwd  %pycat  %pylab  %qtconsole  %quickref  %recall  %rehashx  %reload_ext  %rep  %rerun  %reset  %reset_selective  %rm  %rmdir  %run  %save  %sc  %set_env  %store  %sx  %system  %tb  %time  %timeit  %unalias  %unload_ext  %uv  %who  %who_ls  %whos  %xdel  %xmode\n",
       "\n",
       "Available cell magics:\n",
       "%%!  %%HTML  %%SVG  %%bash  %%capture  %%code_wrap  %%debug  %%file  %%html  %%javascript  %%js  %%latex  %%markdown  %%perl  %%prun  %%pypy  %%python  %%python2  %%python3  %%ruby  %%script  %%sh  %%svg  %%sx  %%system  %%time  %%timeit  %%writefile\n",
       "\n",
       "Automagic is ON, % prefix IS NOT needed for line magics."
      ]
     },
     "execution_count": 1,
     "metadata": {},
     "output_type": "execute_result"
    }
   ],
   "source": [
    "%lsmagic"
   ]
  },
  {
   "cell_type": "markdown",
   "id": "b2be42a2-859a-4268-bf10-e669fcf15a31",
   "metadata": {},
   "source": [
    "You can see that it's a nicely formatted menu, and even distinguishes between line magics and cell magics. Also note the search bar on the far side of the output; this allows you to search for a command you might be looking for. This is very helpful for exploring the features of magic commands early on.\n",
    "\n",
    "### Magics Help\n",
    "But what if you don't know what a given command does? Sure, the list above provides a litany of magic commands you can sift through, but that doesn't really tell you anything about what they actually do. Well, to get help for a given command, just add a `?` to the end of it--it's that simple! See below, where I list the help docstring for the `%lsmagic` command:"
   ]
  },
  {
   "cell_type": "code",
   "execution_count": 2,
   "id": "220a1030-f4d2-4cf4-a556-8c290accd46f",
   "metadata": {},
   "outputs": [
    {
     "data": {
      "text/plain": [
       "\u001b[31mDocstring:\u001b[39m List currently available magic functions.\n",
       "\u001b[31mFile:\u001b[39m      ~/python/environments/data-analysis-env/lib/python3.13/site-packages/IPython/core/magics/basic.py"
      ]
     },
     "metadata": {},
     "output_type": "display_data"
    }
   ],
   "source": [
    "%lsmagic?"
   ]
  },
  {
   "cell_type": "markdown",
   "id": "89ad58ad-b905-4307-8199-40449e31bf35",
   "metadata": {},
   "source": [
    "This gives you a brief description of the command as well as where the code for that command is located (more on that in section 02-03).\n",
    "\n",
    "### Common Line Magics\n",
    "#### Timing\n",
    "First up, there's timing. You may want to use this if it seems that your code is taking a while to run, and you want to figure out which lines may be causing the issue. There are two major commands for this: `%time` and `%timeit`. They both do the same thing in telling you how long it takes to run a given line of code. However, there is a subtle distinction: `%timeit` run the timing process multiple different times to rule out other possibilities such as background processes on your computer."
   ]
  },
  {
   "cell_type": "code",
   "execution_count": 9,
   "id": "fa59f37d-30bf-4cbd-baeb-a9f2ae2f5559",
   "metadata": {},
   "outputs": [
    {
     "name": "stdout",
     "output_type": "stream",
     "text": [
      "CPU times: user 39 μs, sys: 0 ns, total: 39 μs\n",
      "Wall time: 48.9 μs\n"
     ]
    }
   ],
   "source": [
    "%time x = [2**20 for _ in range(100)]"
   ]
  },
  {
   "cell_type": "code",
   "execution_count": 10,
   "id": "8d1c4a24-b47a-4f1e-892c-230388eb11d8",
   "metadata": {},
   "outputs": [
    {
     "name": "stdout",
     "output_type": "stream",
     "text": [
      "1.61 μs ± 142 ns per loop (mean ± std. dev. of 7 runs, 100,000 loops each)\n"
     ]
    }
   ],
   "source": [
    "%timeit x = [2**20 for _ in range(100)]"
   ]
  },
  {
   "cell_type": "markdown",
   "id": "bb398bf6-640c-4030-983a-69888a100291",
   "metadata": {},
   "source": [
    "A note on the output from the `%time` magic: CPU times are times it took the computer to do things, while wall time is the time a clock on the wall outside the computer would measure from the start to the finish of the process."
   ]
  },
  {
   "cell_type": "code",
   "execution_count": null,
   "id": "ea5cb048-adae-4e9e-8620-569302307120",
   "metadata": {},
   "outputs": [],
   "source": []
  },
  {
   "cell_type": "markdown",
   "id": "30f3d0af-3ea3-4258-9897-3fa9bc17f9be",
   "metadata": {},
   "source": [
    "## 02-02: Cell Magics\n",
    "---\n",
    "Words"
   ]
  },
  {
   "cell_type": "markdown",
   "id": "6e8aa648-b63b-4f5a-886a-6ff2ac3ab6b3",
   "metadata": {},
   "source": [
    "## 02-03: Custom Magics\n",
    "---\n",
    "As it turns out, you don't have to just settle for the magic commands you're given--you can create your own! As you have been seeing so far, there are a lot of potential uses of Jupyter magic in your code, but what if the precise magic you want doesn't exist? It's actually a simple enough matter to make your own custom magics. If written within a Jupyter notebook, the commands will only work within the notebook itself after the cell is run. However, you can also add the commands to special files so that they are accessible to all notebooks using a particular kernel of interest.\n",
    "\n",
    "### Writing Line Magics\n",
    "In order to create these magics, we are going to leverage the power of *decorators*. In case you're unfamiliar, decorators in Python can act like functions that take the actual function you're interested in decorating as an argument. Then they can do some pre- and post-processing on the function. Decorators are typically denoted with the `@` character, followed by the decorator's name. In the `@` framework, the function that gets passed as an argument to the decorator is defined below the decorator itself (though there is a way to do this that involves creating wrapper functions directly, but we don't need to worry about that here). \n",
    "\n",
    "In the case of line magics, we will use the `@register_line_magic` decorator. ***Note that this decorator must be imported from the `IPython.core.magic` module!*** We'll add this on top of a Python function that we're defining with our personalized magic command. The Python function will be named whatever string you want to type for the magic command. The function must only take one argument: this will be the text that follows the magic command in the line that its given. As a list summary:\n",
    "- The **decorator** comes first. For line magics, it is always given by `@register_line_magic`\n",
    "- The **name of the Python function** is the **name of your magic command**\n",
    "- The function must take **one argument**, which will be **whatever text follows your magic command in the line it is given**\n",
    "\n",
    "Let's look at a simple example:"
   ]
  },
  {
   "cell_type": "code",
   "execution_count": 18,
   "id": "d3195149-56fe-4769-816c-d5aed5db3c0b",
   "metadata": {},
   "outputs": [
    {
     "name": "stdout",
     "output_type": "stream",
     "text": [
      "Hello, World!\n"
     ]
    }
   ],
   "source": [
    "from IPython.core.magic import register_line_magic\n",
    "\n",
    "@register_line_magic\n",
    "def hello(line):\n",
    "    \"\"\"Returns the string \"Hello, \" followed by the text's line, ending with an exclamation point.\"\"\"\n",
    "    print(f\"Hello, {line}!\")\n",
    "\n",
    "%hello World"
   ]
  },
  {
   "cell_type": "markdown",
   "id": "2e2a94f0-6f4d-48d9-baf0-4c459644200a",
   "metadata": {},
   "source": [
    "It's that easy! Well, it gets more complicated if you want to do more complicated things, but that's the general idea. Let's create a more complicated one: let's have a magic command that accepts a number and then prints that number of lines from the famous \"Zen of Python\":"
   ]
  },
  {
   "cell_type": "code",
   "execution_count": 23,
   "id": "70e87d48-c08a-4957-9630-924acfdbe017",
   "metadata": {},
   "outputs": [],
   "source": [
    "@register_line_magic\n",
    "def zen(line):\n",
    "    \"\"\"Prints the number of lines passed to it from the Zen of Python. Please don't try to pass text to it.\"\"\"\n",
    "    # Checking if the argument is a number\n",
    "    try:\n",
    "        num_lines = int(line)\n",
    "    except:\n",
    "        print(f\"Why do you think {line} is a number? You fool!\")\n",
    "        return\n",
    "\n",
    "    # Checking if the number is less than the number of lines in the file (but greater than 0)\n",
    "    if num_lines > 19 or num_lines < 0:\n",
    "        print(\"Unfortunately, the Zen of Python only has 19 lines. Sorry!\")\n",
    "        return\n",
    "\n",
    "    if num_lines == 0:\n",
    "        print(\"You don't want to read ANY of the Zen of Python? What kind of monster are you?\")\n",
    "        return\n",
    "        \n",
    "    # Printing the correct number of lines.\n",
    "    with open('zen.txt', 'r') as zen:\n",
    "        lines = [_line for _line in zen]\n",
    "        for line_num in range(num_lines):\n",
    "            print(lines[line_num], end='')"
   ]
  },
  {
   "cell_type": "code",
   "execution_count": 24,
   "id": "3b2b2f7b-22b8-49bf-a70a-632ddae2318d",
   "metadata": {},
   "outputs": [
    {
     "name": "stdout",
     "output_type": "stream",
     "text": [
      "Beautiful is better than ugly.\n",
      "Explicit is better than implicit.\n",
      "Simple is better than complex.\n",
      "Complex is better than complicated.\n",
      "Flat is better than nested.\n",
      "Sparse is better than dense.\n",
      "Readability counts.\n",
      "Special cases aren't special enough to break the rules.\n",
      "Although practicality beats purity.\n",
      "Errors should never pass silently.\n",
      "Unless explicitly silenced.\n",
      "In the face of ambiguity, refuse the temptation to guess.\n"
     ]
    }
   ],
   "source": [
    "%zen 12"
   ]
  },
  {
   "cell_type": "code",
   "execution_count": 25,
   "id": "00439ace-f68e-4658-af69-7096534175a5",
   "metadata": {},
   "outputs": [
    {
     "name": "stdout",
     "output_type": "stream",
     "text": [
      "You don't want to read ANY of the Zen of Python? What kind of monster are you?\n"
     ]
    }
   ],
   "source": [
    "%zen 0"
   ]
  },
  {
   "cell_type": "code",
   "execution_count": 26,
   "id": "6c6dfb6a-5e4e-45f4-9c1b-491dd5fd4cf2",
   "metadata": {},
   "outputs": [
    {
     "name": "stdout",
     "output_type": "stream",
     "text": [
      "Unfortunately, the Zen of Python only has 19 lines. Sorry!\n"
     ]
    }
   ],
   "source": [
    "%zen 30"
   ]
  },
  {
   "cell_type": "code",
   "execution_count": 27,
   "id": "5aa20234-f425-4a2a-903f-93423c6d8ea7",
   "metadata": {},
   "outputs": [
    {
     "name": "stdout",
     "output_type": "stream",
     "text": [
      "Why do you think n is a number? You fool!\n"
     ]
    }
   ],
   "source": [
    "%zen n"
   ]
  },
  {
   "cell_type": "markdown",
   "id": "6ca9fe44-7bcb-4c78-b4de-91db27ebdf04",
   "metadata": {},
   "source": [
    "Above you can see all the different cases of my new \"zen\" magic. Isn't that neat?"
   ]
  }
 ],
 "metadata": {
  "kernelspec": {
   "display_name": "Python 3 (ipykernel)",
   "language": "python",
   "name": "python3"
  },
  "language_info": {
   "codemirror_mode": {
    "name": "ipython",
    "version": 3
   },
   "file_extension": ".py",
   "mimetype": "text/x-python",
   "name": "python",
   "nbconvert_exporter": "python",
   "pygments_lexer": "ipython3",
   "version": "3.13.5"
  }
 },
 "nbformat": 4,
 "nbformat_minor": 5
}
