{
 "cells": [
  {
   "cell_type": "markdown",
   "id": "99e2bec1-b644-431f-8dec-5481f479e235",
   "metadata": {},
   "source": [
    "# Learning Jupyter 05: Advanced Topics"
   ]
  },
  {
   "cell_type": "markdown",
   "id": "8126f5ed-3530-4b64-a0f5-24dcc190721c",
   "metadata": {},
   "source": []
  }
 ],
 "metadata": {
  "kernelspec": {
   "display_name": "Python 3 (ipykernel)",
   "language": "python",
   "name": "python3"
  },
  "language_info": {
   "codemirror_mode": {
    "name": "ipython",
    "version": 3
   },
   "file_extension": ".py",
   "mimetype": "text/x-python",
   "name": "python",
   "nbconvert_exporter": "python",
   "pygments_lexer": "ipython3",
   "version": "3.13.5"
  }
 },
 "nbformat": 4,
 "nbformat_minor": 5
}
