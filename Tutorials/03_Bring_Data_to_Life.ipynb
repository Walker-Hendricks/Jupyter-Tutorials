{
 "cells": [
  {
   "cell_type": "markdown",
   "id": "e1f91cf9-02e1-40c6-8359-0d9d53bdfed2",
   "metadata": {},
   "source": [
    "# Learning Jupyter 03: Bringing Data to Life"
   ]
  },
  {
   "cell_type": "raw",
   "id": "b8b6937c-d6b3-4226-84a3-9f419db240f0",
   "metadata": {},
   "source": []
  }
 ],
 "metadata": {
  "kernelspec": {
   "display_name": "Python 3 (ipykernel)",
   "language": "python",
   "name": "python3"
  },
  "language_info": {
   "codemirror_mode": {
    "name": "ipython",
    "version": 3
   },
   "file_extension": ".py",
   "mimetype": "text/x-python",
   "name": "python",
   "nbconvert_exporter": "python",
   "pygments_lexer": "ipython3",
   "version": "3.13.5"
  }
 },
 "nbformat": 4,
 "nbformat_minor": 5
}
